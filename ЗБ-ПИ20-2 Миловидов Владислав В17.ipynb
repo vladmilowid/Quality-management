{
 "cells": [
  {
   "cell_type": "code",
   "execution_count": 2,
   "id": "5ce67d54",
   "metadata": {},
   "outputs": [
    {
     "name": "stdout",
     "output_type": "stream",
     "text": [
      "Lambda: 0.56\n",
      "Reliability R(t): 0.5712090638488149\n"
     ]
    }
   ],
   "source": [
    "import numpy as np\n",
    "\n",
    "# Количество раз, когда происходит каждая конкретная ошибка\n",
    "num_errors = np.array([8, np.nan, 4, 11, 25, 3, 5]) \n",
    "\n",
    "# Количество испытаний\n",
    "num_trials = 100.0\n",
    "\n",
    "# Относительная частота появления ошибки\n",
    "relative_error_frequencies = num_errors / num_trials \n",
    "\n",
    "# Интенсивность отказов\n",
    "lambda_total = np.nansum(relative_error_frequencies)\n",
    "\n",
    "# Время t, в этом примере возьмём значение 1 \n",
    "t = 1\n",
    "\n",
    "# Надежность\n",
    "R_t = np.exp(-lambda_total * t)\n",
    "\n",
    "print(f\"Lambda: {lambda_total}\")\n",
    "print(f\"Reliability R(t): {R_t}\")"
   ]
  },
  {
   "cell_type": "code",
   "execution_count": null,
   "id": "bf114901",
   "metadata": {},
   "outputs": [],
   "source": []
  }
 ],
 "metadata": {
  "kernelspec": {
   "display_name": "Python 3 (ipykernel)",
   "language": "python",
   "name": "python3"
  },
  "language_info": {
   "codemirror_mode": {
    "name": "ipython",
    "version": 3
   },
   "file_extension": ".py",
   "mimetype": "text/x-python",
   "name": "python",
   "nbconvert_exporter": "python",
   "pygments_lexer": "ipython3",
   "version": "3.10.4"
  }
 },
 "nbformat": 4,
 "nbformat_minor": 5
}
